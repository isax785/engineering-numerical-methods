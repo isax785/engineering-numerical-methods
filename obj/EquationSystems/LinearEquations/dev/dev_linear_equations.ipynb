{
 "cells": [
  {
   "attachments": {},
   "cell_type": "markdown",
   "metadata": {},
   "source": [
    "# Linear Equations\n",
    "\n",
    "- [ ] matrix determinant\n",
    "  - [ ] main methods to be retrieved and implemented\n",
    "  - [ ] matrix coefficient preliminary analysis\n"
   ]
  },
  {
   "cell_type": "code",
   "execution_count": null,
   "metadata": {},
   "outputs": [],
   "source": [
    "A = [[1, 2, 3],\n",
    "     [-1, 4, 5],\n",
    "     [4, 5, 3]]"
   ]
  },
  {
   "cell_type": "code",
   "execution_count": null,
   "metadata": {},
   "outputs": [],
   "source": []
  }
 ],
 "metadata": {
  "language_info": {
   "name": "python"
  },
  "orig_nbformat": 4
 },
 "nbformat": 4,
 "nbformat_minor": 2
}
