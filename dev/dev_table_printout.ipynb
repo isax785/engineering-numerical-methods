{
 "cells": [
  {
   "cell_type": "markdown",
   "metadata": {},
   "source": [
    "# DEV - Table Printout"
   ]
  },
  {
   "cell_type": "code",
   "execution_count": 1,
   "metadata": {},
   "outputs": [],
   "source": [
    "%load_ext autoreload\n",
    "%autoreload 2\n",
    "\n",
    "import sys\n",
    "sys.path.append('..')\n",
    "\n",
    "from obj.table_printout import _check_consistency, _to_str, _import_settings, build_table\n",
    "from obj.table_printout import TablePrintout\n",
    "from random import randint, choice"
   ]
  },
  {
   "cell_type": "code",
   "execution_count": 2,
   "metadata": {},
   "outputs": [],
   "source": [
    "# Sample content for the table\n",
    "headers = [\"ID\", \"A\", \"B\", \"C\", \"D\"]\n",
    "records = [[\"First\", 1, 2, 3, 4.0],\n",
    "           [\"Second\", 11111, 2, 3222, 4.0],\n",
    "           [\"Third\", 1, 9.023, 3, 3.345],\n",
    "           ]"
   ]
  },
  {
   "cell_type": "code",
   "execution_count": 9,
   "metadata": {},
   "outputs": [
    {
     "name": "stdout",
     "output_type": "stream",
     "text": [
      "Functions:\n",
      "\t _to_str\n",
      "\t _check_consistency\n",
      "\t _calc_max_width_horiz\n",
      "\t _calc_max_width_vert\n",
      "\t _build_table_horiz\n",
      "\t _build_table_vert\n",
      "\t _import_settings\n",
      "\t build_table\n",
      "\t print_table_vert\n",
      "\t print_table_horiz\n",
      "\t \n",
      "\t \n",
      "\t \n",
      "\t \n"
     ]
    }
   ],
   "source": [
    "# extract function names (for documentation purposes)\n",
    "filepath = \"../obj/table_printout.py\"\n",
    "\n",
    "with open(filepath, 'r') as file:\n",
    "    text = file.read()\n",
    "rows = text.split(\"\\n\")\n",
    "\n",
    "print(\"Functions:\")\n",
    "\n",
    "for row in rows:\n",
    "    if \"def \" in row:\n",
    "        print(\"\\t\", row.split(' ')[1].split('(')[0])"
   ]
  },
  {
   "cell_type": "markdown",
   "metadata": {},
   "source": [
    "# Checks and Validations"
   ]
  },
  {
   "cell_type": "code",
   "execution_count": 4,
   "metadata": {},
   "outputs": [],
   "source": [
    "headers = [\"ID\", \"A\", \"B\", \"C\", \"D\"]\n",
    "records = [[\"First\", 1, 2, 3, 4.0],\n",
    "           [\"Second\", 11111, 2, 3222, 4.0],\n",
    "           [\"Third\", 1, 9.023, 3, 3.345],\n",
    "           ]"
   ]
  },
  {
   "cell_type": "code",
   "execution_count": 27,
   "metadata": {},
   "outputs": [],
   "source": [
    "# conversion to string -> OK\n",
    "h_str, r_str = _to_str(headers, records)\n",
    "\n",
    "assert type(records[1][1]) == int\n",
    "assert type(r_str[1][1]) == str"
   ]
  },
  {
   "cell_type": "code",
   "execution_count": 28,
   "metadata": {},
   "outputs": [
    {
     "ename": "ValueError",
     "evalue": "Headers and Records 0 are not the same length: 4 != 5",
     "output_type": "error",
     "traceback": [
      "\u001b[1;31m---------------------------------------------------------------------------\u001b[0m",
      "\u001b[1;31mValueError\u001b[0m                                Traceback (most recent call last)",
      "Cell \u001b[1;32mIn [28], line 3\u001b[0m\n\u001b[0;32m      1\u001b[0m \u001b[38;5;66;03m# headers and records consistency -> OK\u001b[39;00m\n\u001b[0;32m      2\u001b[0m \u001b[38;5;28;01massert\u001b[39;00m _check_consistency(headers, records) \u001b[38;5;241m==\u001b[39m \u001b[38;5;28;01mTrue\u001b[39;00m\n\u001b[1;32m----> 3\u001b[0m \u001b[38;5;28;01massert\u001b[39;00m \u001b[43m_check_consistency\u001b[49m\u001b[43m(\u001b[49m\u001b[43mheaders\u001b[49m\u001b[43m[\u001b[49m\u001b[38;5;241;43m1\u001b[39;49m\u001b[43m:\u001b[49m\u001b[43m]\u001b[49m\u001b[43m,\u001b[49m\u001b[43m \u001b[49m\u001b[43mrecords\u001b[49m\u001b[43m)\u001b[49m\n",
      "File \u001b[1;32mc:\\Users\\i.stiaccini\\Desktop\\working_progress\\SimEnv\\obj\\NumericalToolbox\\dev\\..\\obj\\table_printout.py:30\u001b[0m, in \u001b[0;36m_check_consistency\u001b[1;34m(headers, records)\u001b[0m\n\u001b[0;32m     28\u001b[0m \u001b[38;5;28;01mdef\u001b[39;00m \u001b[38;5;21m_calc_max_width_horiz\u001b[39m(headers:\u001b[38;5;28mlist\u001b[39m[\u001b[38;5;28mstr\u001b[39m], records:\u001b[38;5;28mlist\u001b[39m[\u001b[38;5;28mlist\u001b[39m[\u001b[38;5;28mstr\u001b[39m]], spaces:\u001b[38;5;28mint\u001b[39m\u001b[38;5;241m=\u001b[39m\u001b[38;5;241m2\u001b[39m, width:\u001b[38;5;28mint\u001b[39m\u001b[38;5;241m=\u001b[39m\u001b[38;5;28;01mNone\u001b[39;00m) \u001b[38;5;241m-\u001b[39m\u001b[38;5;241m>\u001b[39m \u001b[38;5;28mlist\u001b[39m[\u001b[38;5;28mint\u001b[39m]:\n\u001b[0;32m     29\u001b[0m     headers, records \u001b[38;5;241m=\u001b[39m _to_str(headers, records)\n\u001b[1;32m---> 30\u001b[0m     col_len \u001b[38;5;241m=\u001b[39m [width \u001b[38;5;28;01mif\u001b[39;00m width \u001b[38;5;129;01mis\u001b[39;00m \u001b[38;5;129;01mnot\u001b[39;00m \u001b[38;5;28;01mNone\u001b[39;00m \u001b[38;5;28;01melse\u001b[39;00m \u001b[38;5;241m0\u001b[39m \u001b[38;5;28;01mfor\u001b[39;00m _ \u001b[38;5;129;01min\u001b[39;00m headers] \u001b[38;5;66;03m# initialize with width if not None else 0\u001b[39;00m\n\u001b[0;32m     31\u001b[0m     \u001b[38;5;28;01mfor\u001b[39;00m i, h \u001b[38;5;129;01min\u001b[39;00m \u001b[38;5;28menumerate\u001b[39m(headers):\n\u001b[0;32m     32\u001b[0m         l \u001b[38;5;241m=\u001b[39m \u001b[38;5;28mlen\u001b[39m(h)\n",
      "\u001b[1;31mValueError\u001b[0m: Headers and Records 0 are not the same length: 4 != 5"
     ]
    }
   ],
   "source": [
    "# headers and records consistency -> OK\n",
    "assert _check_consistency(headers, records) == True\n",
    "assert _check_consistency(headers[1:], records) # this will raise an error"
   ]
  },
  {
   "cell_type": "markdown",
   "metadata": {},
   "source": [
    "# Testing Horizontal"
   ]
  },
  {
   "cell_type": "code",
   "execution_count": 21,
   "metadata": {},
   "outputs": [
    {
     "name": "stdout",
     "output_type": "stream",
     "text": [
      " ID          A       B      C       D    \n",
      " First       1       2      3      4.0   \n",
      " Second    11111     2     3222    4.0   \n",
      " Third       1     9.023    3     3.345  \n",
      "\n"
     ]
    }
   ],
   "source": [
    "# default horizontal printout\n",
    "settings = {\n",
    "            \"positioning\": \"horiz\",\n",
    "            \"spaces\": None,\n",
    "            \"width\": None,\n",
    "            \"markdown\": False,\n",
    "            \"separator\": None\n",
    "            }\n",
    "\n",
    "print(build_table(headers, records, settings))"
   ]
  },
  {
   "cell_type": "code",
   "execution_count": 22,
   "metadata": {},
   "outputs": [
    {
     "name": "stdout",
     "output_type": "stream",
     "text": [
      ";ID         ;    A     ;    B     ;    C    ;    D     ;\n",
      ";First      ;    1     ;    2     ;    3    ;   4.0    ;\n",
      ";Second     ;  11111   ;    2     ;  3222   ;   4.0    ;\n",
      ";Third      ;    1     ;  9.023   ;    3    ;  3.345   ;\n",
      "\n"
     ]
    }
   ],
   "source": [
    "# change spaces and separator\n",
    "settings[\"spaces\"] = 5\n",
    "settings[\"separator\"] = ';'\n",
    "\n",
    "print(build_table(headers, records, settings))"
   ]
  },
  {
   "cell_type": "code",
   "execution_count": 23,
   "metadata": {},
   "outputs": [
    {
     "name": "stdout",
     "output_type": "stream",
     "text": [
      "|ID         |    A     |    B     |    C    |    D     |\n",
      "|---        |   ---    |   ---    |   ---   |   ---    |\n",
      "|First      |    1     |    2     |    3    |   4.0    |\n",
      "|Second     |  11111   |    2     |  3222   |   4.0    |\n",
      "|Third      |    1     |  9.023   |    3    |  3.345   |\n",
      "\n"
     ]
    }
   ],
   "source": [
    "# markdown styling\n",
    "settings[\"markdown\"] = True\n",
    "print(build_table(headers, records, settings))"
   ]
  },
  {
   "cell_type": "markdown",
   "metadata": {},
   "source": [
    "# Testing Vertical"
   ]
  },
  {
   "cell_type": "code",
   "execution_count": 24,
   "metadata": {},
   "outputs": [
    {
     "name": "stdout",
     "output_type": "stream",
     "text": [
      " ID    First   Second   Third  \n",
      " A       1     11111      1    \n",
      " B       2       2      9.023  \n",
      " C       3      3222      3    \n",
      " D      4.0     4.0     3.345  \n",
      "\n"
     ]
    }
   ],
   "source": [
    "# default vertical printout\n",
    "settings = {\n",
    "            \"positioning\": \"vert\",\n",
    "            \"spaces\": None,\n",
    "            \"width\": None,\n",
    "            \"markdown\": False,\n",
    "            \"separator\": None\n",
    "            }\n",
    "\n",
    "print(build_table(headers, records, settings))"
   ]
  },
  {
   "cell_type": "code",
   "execution_count": 25,
   "metadata": {},
   "outputs": [
    {
     "name": "stdout",
     "output_type": "stream",
     "text": [
      ";ID     ;  First   ;  Second   ;  Third   ;\n",
      ";A      ;    1     ;   11111   ;    1     ;\n",
      ";B      ;    2     ;     2     ;  9.023   ;\n",
      ";C      ;    3     ;   3222    ;    3     ;\n",
      ";D      ;   4.0    ;    4.0    ;  3.345   ;\n",
      "\n"
     ]
    }
   ],
   "source": [
    "# change spaces and separator\n",
    "settings[\"spaces\"] = 5\n",
    "settings[\"separator\"] = ';'\n",
    "\n",
    "print(build_table(headers, records, settings))"
   ]
  },
  {
   "cell_type": "code",
   "execution_count": 26,
   "metadata": {},
   "outputs": [
    {
     "name": "stdout",
     "output_type": "stream",
     "text": [
      "|ID     |  First   |  Second   |  Third   |\n",
      "|---    |   ---    |    ---    |   ---    |\n",
      "|A      |    1     |   11111   |    1     |\n",
      "|B      |    2     |     2     |  9.023   |\n",
      "|C      |    3     |   3222    |    3     |\n",
      "|D      |   4.0    |    4.0    |  3.345   |\n",
      "\n"
     ]
    }
   ],
   "source": [
    "# markdown formatting\n",
    "settings[\"markdown\"] = True\n",
    "print(build_table(headers, records, settings))"
   ]
  },
  {
   "cell_type": "markdown",
   "metadata": {},
   "source": [
    "# Testing Class"
   ]
  },
  {
   "cell_type": "code",
   "execution_count": 31,
   "metadata": {},
   "outputs": [],
   "source": [
    "table = TablePrintout(headers, records, settings=settings)"
   ]
  },
  {
   "cell_type": "code",
   "execution_count": 32,
   "metadata": {},
   "outputs": [
    {
     "name": "stdout",
     "output_type": "stream",
     "text": [
      "|ID     |  First   |  Second   |  Third   |\n",
      "|---    |   ---    |    ---    |   ---    |\n",
      "|A      |    1     |   11111   |    1     |\n",
      "|B      |    2     |     2     |  9.023   |\n",
      "|C      |    3     |   3222    |    3     |\n",
      "|D      |   4.0    |    4.0    |  3.345   |\n",
      "\n"
     ]
    }
   ],
   "source": [
    "table.print_table()"
   ]
  },
  {
   "cell_type": "code",
   "execution_count": 34,
   "metadata": {},
   "outputs": [
    {
     "name": "stdout",
     "output_type": "stream",
     "text": [
      "Exporting table.txt ... done!\n"
     ]
    }
   ],
   "source": [
    "table.export()"
   ]
  }
 ],
 "metadata": {
  "kernelspec": {
   "display_name": "Python 3",
   "language": "python",
   "name": "python3"
  },
  "language_info": {
   "codemirror_mode": {
    "name": "ipython",
    "version": 3
   },
   "file_extension": ".py",
   "mimetype": "text/x-python",
   "name": "python",
   "nbconvert_exporter": "python",
   "pygments_lexer": "ipython3",
   "version": "3.9.13"
  }
 },
 "nbformat": 4,
 "nbformat_minor": 2
}
